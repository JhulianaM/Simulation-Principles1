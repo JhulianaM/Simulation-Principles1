{
  "nbformat": 4,
  "nbformat_minor": 0,
  "metadata": {
    "colab": {
      "provenance": [],
      "include_colab_link": true
    },
    "kernelspec": {
      "name": "python3",
      "display_name": "Python 3"
    },
    "language_info": {
      "name": "python"
    }
  },
  "cells": [
    {
      "cell_type": "markdown",
      "metadata": {
        "id": "view-in-github",
        "colab_type": "text"
      },
      "source": [
        "<a href=\"https://colab.research.google.com/github/JhulianaM/Simulation-Principles1/blob/master/Ex_4_randpoisson.ipynb\" target=\"_parent\"><img src=\"https://colab.research.google.com/assets/colab-badge.svg\" alt=\"Open In Colab\"/></a>"
      ]
    },
    {
      "cell_type": "code",
      "execution_count": null,
      "metadata": {
        "id": "UinCIGjWhQy3",
        "colab": {
          "base_uri": "https://localhost:8080/"
        },
        "outputId": "39effd7e-8e9d-433d-f1a9-a197a1aad8e4"
      },
      "outputs": [
        {
          "output_type": "stream",
          "name": "stdout",
          "text": [
            "Requirement already satisfied: numpy in /usr/local/lib/python3.10/dist-packages (1.25.2)\n"
          ]
        }
      ],
      "source": [
        "!pip install numpy"
      ]
    },
    {
      "cell_type": "code",
      "source": [
        "!pip install matplotlib"
      ],
      "metadata": {
        "colab": {
          "base_uri": "https://localhost:8080/"
        },
        "id": "7VS4pFvBcnrf",
        "outputId": "9898394b-5c54-4bd0-8cb9-9d4ea1df1451"
      },
      "execution_count": null,
      "outputs": [
        {
          "output_type": "stream",
          "name": "stdout",
          "text": [
            "Requirement already satisfied: matplotlib in /usr/local/lib/python3.10/dist-packages (3.7.1)\n",
            "Requirement already satisfied: contourpy>=1.0.1 in /usr/local/lib/python3.10/dist-packages (from matplotlib) (1.2.0)\n",
            "Requirement already satisfied: cycler>=0.10 in /usr/local/lib/python3.10/dist-packages (from matplotlib) (0.12.1)\n",
            "Requirement already satisfied: fonttools>=4.22.0 in /usr/local/lib/python3.10/dist-packages (from matplotlib) (4.49.0)\n",
            "Requirement already satisfied: kiwisolver>=1.0.1 in /usr/local/lib/python3.10/dist-packages (from matplotlib) (1.4.5)\n",
            "Requirement already satisfied: numpy>=1.20 in /usr/local/lib/python3.10/dist-packages (from matplotlib) (1.25.2)\n",
            "Requirement already satisfied: packaging>=20.0 in /usr/local/lib/python3.10/dist-packages (from matplotlib) (24.0)\n",
            "Requirement already satisfied: pillow>=6.2.0 in /usr/local/lib/python3.10/dist-packages (from matplotlib) (9.4.0)\n",
            "Requirement already satisfied: pyparsing>=2.3.1 in /usr/local/lib/python3.10/dist-packages (from matplotlib) (3.1.2)\n",
            "Requirement already satisfied: python-dateutil>=2.7 in /usr/local/lib/python3.10/dist-packages (from matplotlib) (2.8.2)\n",
            "Requirement already satisfied: six>=1.5 in /usr/local/lib/python3.10/dist-packages (from python-dateutil>=2.7->matplotlib) (1.16.0)\n"
          ]
        }
      ]
    },
    {
      "cell_type": "markdown",
      "source": [],
      "metadata": {
        "id": "Ze5KBMG-m95F"
      }
    },
    {
      "cell_type": "markdown",
      "source": [
        "Ejercicio 4"
      ],
      "metadata": {
        "id": "BjBMa52DnI8I"
      }
    },
    {
      "cell_type": "code",
      "source": [
        "import numpy as np\n",
        "import matplotlib.pyplot as plt\n",
        "import seaborn as sns\n",
        "\n",
        "\n",
        "lambda1=3 #Número médio de requisições\n",
        "N=100 #Numero de amostras\n",
        "value=2\n",
        "count=0\n",
        "av=np.array([])\n",
        "x=np.random.uniform(0,1,N)\n",
        "for ix in x:\n",
        "    i = 0\n",
        "    pr = np.exp(-lambda1)\n",
        "    F=pr\n",
        "    while ix>=F:\n",
        "        pr=lambda1/(i+1)*pr\n",
        "        F = F + pr\n",
        "        i = i + 1;\n",
        "    a1=i\n",
        "    av=np.append(av,a1)\n",
        "\n",
        "print(av)"
      ],
      "metadata": {
        "colab": {
          "base_uri": "https://localhost:8080/"
        },
        "id": "HwbRbCW1m-zJ",
        "outputId": "92eb1a83-7150-477f-87c6-889407de6ea4"
      },
      "execution_count": null,
      "outputs": [
        {
          "output_type": "stream",
          "name": "stdout",
          "text": [
            "[ 2.  5.  5.  4.  4.  4.  1.  5.  4.  5.  2.  2.  1.  2.  3.  4.  1.  1.\n",
            "  4.  0.  2.  4.  4.  2.  2.  2.  2.  1.  0.  0.  1.  5.  4.  2.  3.  1.\n",
            "  1.  1.  3.  6.  3.  3.  5.  5.  4.  3.  2.  3.  1.  1.  3.  2.  3.  5.\n",
            "  1.  0.  4.  2.  7.  2. 11.  4.  1.  4.  2.  3.  5.  0.  1.  3.  5.  1.\n",
            "  2.  1.  2.  3.  3.  0.  2.  5.  2.  3.  4.  4.  5.  3.  1.  2.  3.  2.\n",
            "  1.  3.  2.  3.  4.  4.  3.  5.  3.  2.]\n"
          ]
        }
      ]
    },
    {
      "cell_type": "code",
      "source": [
        "for pissonvalue in av:\n",
        "    if pissonvalue>=value:\n",
        "        count=count+1\n",
        "prob=count/N\n",
        "print(\"a probabilidade e\",prob)"
      ],
      "metadata": {
        "colab": {
          "base_uri": "https://localhost:8080/"
        },
        "id": "mwDMtLiF9Phy",
        "outputId": "304f10b9-d323-4da1-ea10-3cc3cb181ce6"
      },
      "execution_count": null,
      "outputs": [
        {
          "output_type": "stream",
          "name": "stdout",
          "text": [
            "a probabilidade e 0.76\n"
          ]
        }
      ]
    },
    {
      "cell_type": "code",
      "source": [
        "#Generador de datos Distribusion Poisson\n",
        "data = np.random.poisson(lambda1, size=1000)\n",
        "#Histograma\n",
        "plt.hist(data, bins=20, density=True, alpha=0.6, color='blue', edgecolor='black')\n",
        "plt.xlabel('Valores')\n",
        "plt.ylabel('Frecuencia')\n",
        "plt.title('Histograma de una variable con distribución de Poisson')\n",
        "plt.grid(True)\n",
        "plt.show()"
      ],
      "metadata": {
        "colab": {
          "base_uri": "https://localhost:8080/",
          "height": 472
        },
        "id": "Fr1aTYQNpsUa",
        "outputId": "8201e0e5-c697-4263-bc30-e2d15da6acaa"
      },
      "execution_count": null,
      "outputs": [
        {
          "output_type": "display_data",
          "data": {
            "text/plain": [
              "<Figure size 640x480 with 1 Axes>"
            ],
            "image/png": "[encoded data removed]"
          },
          "metadata": {}
        }
      ]
    }
  ]
}